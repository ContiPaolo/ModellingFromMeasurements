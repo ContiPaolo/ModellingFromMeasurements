{
  "cells": [
    {
      "cell_type": "markdown",
      "metadata": {
        "id": "view-in-github",
        "colab_type": "text"
      },
      "source": [
        "<a href=\"https://colab.research.google.com/github/ContiPaolo/ModellingFromMeasurements/blob/main/Tutorial_Dynamics_Identification_(trace).ipynb\" target=\"_parent\"><img src=\"https://colab.research.google.com/assets/colab-badge.svg\" alt=\"Open In Colab\"/></a>"
      ]
    },
    {
      "cell_type": "markdown",
      "source": [
        "## Dynamics identification from data"
      ],
      "metadata": {
        "id": "yBGkpkSrZMrw"
      },
      "id": "yBGkpkSrZMrw"
    },
    {
      "cell_type": "markdown",
      "id": "f766928637f22f26",
      "metadata": {
        "id": "f766928637f22f26"
      },
      "source": [
        "Perform all necessary imports"
      ]
    },
    {
      "cell_type": "code",
      "source": [
        "########################### INSTALL VINDy PACKAGE  ###########################\n",
        "from IPython.display import clear_output\n",
        "!pip install vindy\n",
        "clear_output()\n",
        "print(\"VENI-VINDy-VICI ready to go :)\")\n",
        "\n",
        "import tensorflow as tf\n",
        "from tensorflow.keras.layers import Dense, Input\n",
        "from tensorflow.keras.models import Model\n",
        "import keras\n",
        "import os\n",
        "import scipy\n",
        "import numpy as np\n",
        "import matplotlib.pyplot as plt\n",
        "from sklearn.model_selection import train_test_split\n",
        "\n",
        "import pysindy as ps\n",
        "import matplotlib.cm as cm\n",
        "from vindy import SindyNetwork\n",
        "from vindy.libraries import PolynomialLibrary\n",
        "from vindy.layers import SindyLayer, VindyLayer\n",
        "from vindy.distributions import Gaussian, Laplace\n",
        "from vindy.callbacks import (\n",
        "    SaveCoefficientsCallback,\n",
        ")\n",
        "from vindy.utils import add_lognormal_noise\n",
        "\n",
        "seed = 29 # random seed\n",
        "\n",
        "sindy_type = \"vindy\"  # \"sindy\" or \"vindy\", if you either want a deterministic or probabilistic model for the dynamics, respectively.\n",
        "model_name = \"roessler\""
      ],
      "metadata": {
        "colab": {
          "base_uri": "https://localhost:8080/"
        },
        "id": "RCayuQf_FqQy",
        "outputId": "8252dd07-a18a-4e58-dbeb-16191c223c1d"
      },
      "id": "RCayuQf_FqQy",
      "execution_count": null,
      "outputs": [
        {
          "output_type": "stream",
          "name": "stdout",
          "text": [
            "VENI-VINDy-VICI ready to go :)\n"
          ]
        }
      ]
    },
    {
      "cell_type": "markdown",
      "id": "67661958384454ad",
      "metadata": {
        "id": "67661958384454ad"
      },
      "source": [
        "## Roessler System\n",
        "The Roessler system is a set of three ordinary differential equations describing a simple chaotic dynamical system. The equations take the form:\n",
        "\n",
        "$$\n",
        "\\begin{align}\n",
        "\\dot{\\mathbf{x}} = \\mathbf{f}(\\mathbf{x})\n",
        "\\end{align}\n",
        "$$\n",
        "\n",
        "where $\\mathbf{x} = [x, y, z]^\\top$ and $\\mathbf{f}$ is given by:\n",
        "\n",
        "$$\n",
        "\\begin{align}\n",
        "&\\dot{x} = -y - z,  \\\\\n",
        "&\\dot{y} = x + a y, \\\\\n",
        "&\\dot{z} = b + z(x-c),\n",
        "\\end{align}\n",
        "$$\n",
        "\n",
        "where $a = 0.2, b = 0.2, c = 5.7$.\n",
        "\n",
        "Our goal is to learn the dynamics $\\mathbf{f}$ of the system directly from measurements of the system's states."
      ]
    },
    {
      "cell_type": "code",
      "execution_count": null,
      "id": "a689076b38b25ac8",
      "metadata": {
        "id": "a689076b38b25ac8"
      },
      "outputs": [],
      "source": [
        "def roessler(t, x0, a=0.2, b=0.2, c=5.7):\n",
        "    #TODO\n",
        "    return #TODO"
      ]
    },
    {
      "cell_type": "code",
      "execution_count": null,
      "id": "UfNC4S5reCeN",
      "metadata": {
        "id": "UfNC4S5reCeN"
      },
      "outputs": [],
      "source": [
        "# Roessler system parameters\n",
        "a = #TODO\n",
        "b = #TODO\n",
        "c = #TODO\n",
        "\n",
        "# initial conditions\n",
        "x0 = -5\n",
        "y0 = -5\n",
        "z0 = 0\n",
        "ic = [x0, y0, z0]\n",
        "dim = 3\n",
        "var_names = [\"z_1\", \"z_2\", \"z_3\"]\n",
        "\n",
        "# time vector\n",
        "t0, T, nt = 0, 24, 2000\n",
        "t = np.linspace(t0, T, nt)\n",
        "dt = t[1] - t[0]"
      ]
    },
    {
      "cell_type": "markdown",
      "source": [
        "## 1. Approximation of the dynamics with neural networks\n",
        "One approach is to approximate the *map* $\\mathbf{F}$ $-$ which is the discrete counterpart of $\\mathbf{f}$ $-$ using a neural network $\\mathbf{F}_\\texttt{NN}$, such that\n",
        "\n",
        "$$\n",
        "\\begin{align}\n",
        "  \\mathbf{x}_{t+1} = \\mathbf{F}(\\mathbf{x}_t) \\approx \\mathbf{F}_\\texttt{NN}(\\mathbf{x}_t) =: \\hat{\\mathbf{x}}_{t+1}\n",
        "  \\end{align}\n",
        "$$\n",
        "This map takes the system's current state as input and provides the state at the next time step as output.\n",
        "\n"
      ],
      "metadata": {
        "id": "GSrAhNK6ilxM"
      },
      "id": "GSrAhNK6ilxM"
    },
    {
      "cell_type": "markdown",
      "source": [
        "### Generate data:\n",
        "First, we will generate the data for the Roessler system. We will use the `scipy.integrate.odeint` function to solve the ODEs and generate the data."
      ],
      "metadata": {
        "id": "7q9MsRoaj180"
      },
      "id": "7q9MsRoaj180"
    },
    {
      "cell_type": "code",
      "execution_count": null,
      "id": "PeEauXn_gYtz",
      "metadata": {
        "id": "PeEauXn_gYtz"
      },
      "outputs": [],
      "source": [
        "n_sim = 20\n",
        "\n",
        "# Generate initial conditions and parameters\n",
        "np.random.seed(seed)\n",
        "x0 = np.random.normal(ic, 2, size=(n_sim, 3))\n",
        "\n",
        "# Generate data\n",
        "x = []\n",
        "nn_input = []\n",
        "nn_output = []\n",
        "\n",
        "np.random.seed(seed)\n",
        "for x0_ in x0:\n",
        "  x_sol = #TODO\n",
        "  x.append(x_sol)\n",
        "  nn_input.append(#TODO)\n",
        "  nn_output.append(#TODO)\n",
        "\n",
        "# Plot the data\n",
        "ig,ax = plt.subplots(1,1,subplot_kw={'projection': '3d'})\n",
        "for n, x_sol in enumerate(x):\n",
        "  ax.plot(x_sol[:,0], x_sol[:,1], x_sol[:,2],linewidth=1)\n",
        "\n",
        "  ax.set_xlabel('x', labelpad = 10)\n",
        "  ax.set_ylabel('y', labelpad = 10)\n",
        "  ax.set_zlabel('z', labelpad = 10)\n",
        "  ax.scatter(x_sol[0,0], x_sol[0,1], x_sol[0,2] ,color='r', s=10)"
      ]
    },
    {
      "cell_type": "markdown",
      "source": [
        "### Train the neural network:"
      ],
      "metadata": {
        "id": "xCMxOWAMj4qE"
      },
      "id": "xCMxOWAMj4qE"
    },
    {
      "cell_type": "code",
      "execution_count": null,
      "id": "igtA0YsCnQdh",
      "metadata": {
        "id": "igtA0YsCnQdh"
      },
      "outputs": [],
      "source": [
        "# Set seed for reproducibility\n",
        "np.random.seed(seed)\n",
        "#TODO: split in train and test using sklearn.model_selection.train_test_split\n",
        "x_train, x_test, y_train, y_test = #TODO\n",
        "n_train = len(x_train)\n",
        "n_test = len(x_test)\n",
        "\n",
        "x_train = np.array(x_train)\n",
        "x_test = np.array(x_test)\n",
        "y_train = np.array(y_train)\n",
        "y_test = np.array(y_test)\n",
        "\n",
        "# Reshape train data to feed the NN\n",
        "x_train_nn = #TODO\n",
        "y_train_nn = #TODO\n",
        "\n",
        "# Build model\n",
        "inputs = #TODO\n",
        "x = Dense(32, activation='tanh')(inputs)\n",
        "x = Dense(32, activation='tanh')(x)\n",
        "outputs = #TODO\n",
        "\n",
        "# Compile model\n",
        "nn_model = Model(inputs, outputs)\n",
        "opt = tf.keras.optimizers.Adam(learning_rate=1e-3)\n",
        "nn_model.compile(loss='mse', optimizer=opt)\n",
        "\n",
        "# Fit\n",
        "tf.random.set_seed(seed)\n",
        "batch_size=150\n",
        "\n",
        "History = nn_model.fit(x_train_nn, y_train_nn, epochs=500, verbose = 1, batch_size=batch_size, callbacks=keras.callbacks.EarlyStopping(monitor='loss', patience=20))"
      ]
    },
    {
      "cell_type": "markdown",
      "source": [
        "### 3. Test the performance\n",
        "\n",
        "We approximate the system trajectories $\\{\\mathbf{x}_{t_1}, \\mathbf{x}_{t_2}, \\ldots, \\mathbf{x}_{T}\\}$ as:\n",
        "\n",
        "$${\\mathbf{x}}_{t+1}\\approx\\hat{\\mathbf{x}}_{t+1} = \\mathbf{F}_\\texttt{NN}(\\mathbf{x}_t).$$"
      ],
      "metadata": {
        "id": "hqRUfjjyj7CD"
      },
      "id": "hqRUfjjyj7CD"
    },
    {
      "cell_type": "code",
      "source": [
        "ind_test = 0"
      ],
      "metadata": {
        "id": "MtM7MsKmllEf"
      },
      "id": "MtM7MsKmllEf",
      "execution_count": null,
      "outputs": []
    },
    {
      "cell_type": "code",
      "execution_count": null,
      "id": "tyfSgYE2oTr1",
      "metadata": {
        "id": "tyfSgYE2oTr1"
      },
      "outputs": [],
      "source": [
        "y_test_pred = #TODO\n",
        "print('Mean Squared Error:', np.mean(np.square(y_test[ind_test] - y_test_pred)))"
      ]
    },
    {
      "cell_type": "code",
      "source": [
        "#Plot trajectory\n",
        "ig,ax = plt.subplots(1,1,subplot_kw={'projection': '3d'})\n",
        "ax.plot(y_test[ind_test][:,0], y_test[ind_test][:,1], y_test[ind_test][:,2], 'k-', linewidth=2, label = 'Exact traj.')\n",
        "ax.plot(y_test_pred[:,0], y_test_pred[:,1], y_test_pred[:,2], 'r--',  linewidth=2, label = 'Predicted traj.')\n",
        "\n",
        "ax.set_xlabel('x', labelpad = 10)\n",
        "ax.set_ylabel('y', labelpad = 10)\n",
        "ax.set_zlabel('z', labelpad = 10)\n",
        "ax.scatter(y_test[ind_test][0,0], y_test[ind_test][0,1], y_test[ind_test][0,2] ,color='g', s=30)\n",
        "plt.legend()\n",
        "\n",
        "# Plot evolution of each state\n",
        "plt.figure()\n",
        "plt.subplot(3,1,1)\n",
        "plt.plot(t[:-1], y_test[ind_test][:,0], 'k-', linewidth = 2, label = 'x')\n",
        "plt.plot(t[:-1], y_test_pred[:,0], 'r--',  linewidth=2, label = ' x pred')\n",
        "plt.legend(loc = 'lower right')\n",
        "\n",
        "plt.subplot(3,1,2)\n",
        "plt.plot(t[:-1], y_test[ind_test][:,1], 'k-', linewidth = 2, label = 'y')\n",
        "plt.plot(t[:-1], y_test_pred[:,1], 'r--',  linewidth=2, label = 'y pred')\n",
        "plt.legend(loc = 'lower right')\n",
        "\n",
        "plt.subplot(3,1,3)\n",
        "plt.plot(t[:-1], y_test[ind_test][:,2], 'k-', linewidth = 2, label = 'z')\n",
        "plt.plot(t[:-1], y_test_pred[:,2], 'r--',  linewidth=2, label = 'z pred')\n",
        "plt.legend(loc = 'lower right')\n",
        "plt.show()"
      ],
      "metadata": {
        "id": "GXrxU8pTljiO"
      },
      "id": "GXrxU8pTljiO",
      "execution_count": null,
      "outputs": []
    },
    {
      "cell_type": "markdown",
      "source": [
        "### 3. Test the performance (reality)\n",
        "\n",
        "In practice, we typically only know $\\mathbf{x}_0$ and we do not have access to $\\mathbf{x}_t$, at any other $t$. Therefore, trajectories are typically computed recursively as:\n",
        "\n",
        "$$\\hat{\\mathbf{x}}_{t+1} = \\mathbf{F}_\\texttt{NN}(\\hat{\\mathbf{x}}_t)= \\mathbf{F}_\\texttt{NN}(\\mathbf{F}_\\texttt{NN}(\\hat{\\mathbf{x}}_{t-1})) = \\cdots = \\mathbf{F}_\\texttt{NN}(\\mathbf{F}_\\texttt{NN}(\\cdots(\\mathbf{F}_\\texttt{NN}(\\mathbf{x}_0))).$$\n"
      ],
      "metadata": {
        "id": "hn1yqHurlsI3"
      },
      "id": "hn1yqHurlsI3"
    },
    {
      "cell_type": "code",
      "source": [
        "nt_ = nt - 1\n",
        "y_test_pred_rec = np.zeros((nt_, 3))\n",
        "y_test_pred_rec[0] = #TODO\n",
        "\n",
        "for time in range(nt_-1):\n",
        "  if time%100==0:\n",
        "    print('time = ', time)\n",
        "  #TODO: update y_test_pred_rec\n",
        "\n",
        "print('Mean Squared Error:', np.mean(np.square(y_test[ind_test] - y_test_pred_rec)))"
      ],
      "metadata": {
        "id": "9oEoHCpLloE1"
      },
      "id": "9oEoHCpLloE1",
      "execution_count": null,
      "outputs": []
    },
    {
      "cell_type": "code",
      "source": [
        "#Plot trajectory\n",
        "ig,ax = plt.subplots(1,1,subplot_kw={'projection': '3d'})\n",
        "ax.plot(y_test[ind_test][:,0], y_test[ind_test][:,1], y_test[ind_test][:,2], 'k-', linewidth=2, label = 'Exact traj.')\n",
        "ax.plot(y_test_pred_rec[:,0], y_test_pred_rec[:,1], y_test_pred_rec[:,2], 'r--',  linewidth=2, label = 'Predicted traj.')\n",
        "\n",
        "ax.set_xlabel('x', labelpad = 10)\n",
        "ax.set_ylabel('y', labelpad = 10)\n",
        "ax.set_zlabel('z', labelpad = 10)\n",
        "ax.scatter(y_test[ind_test][0,0], y_test[ind_test][0,1], y_test[ind_test][0,2] ,color='g', s=30)\n",
        "plt.legend()\n",
        "\n",
        "# Plot evolution of each state\n",
        "plt.figure()\n",
        "plt.subplot(3,1,1)\n",
        "plt.plot(t[:-1], y_test[ind_test][:,0], 'k-', linewidth = 2, label = 'x')\n",
        "plt.plot(t[:-1], y_test_pred_rec[:,0], 'r--',  linewidth=2, label = ' x pred')\n",
        "plt.legend(loc = 'lower right')\n",
        "\n",
        "plt.subplot(3,1,2)\n",
        "plt.plot(t[:-1], y_test[ind_test][:,1], 'k-', linewidth = 2, label = 'y')\n",
        "plt.plot(t[:-1], y_test_pred_rec[:,1], 'r--',  linewidth=2, label = 'y pred')\n",
        "plt.legend(loc = 'lower right')\n",
        "\n",
        "plt.subplot(3,1,3)\n",
        "plt.plot(t[:-1], y_test[ind_test][:,2], 'k-', linewidth = 2, label = 'z')\n",
        "plt.plot(t[:-1], y_test_pred_rec[:,2], 'r--',  linewidth=2, label = 'z pred')\n",
        "plt.legend(loc = 'lower right')\n",
        "plt.show()\n"
      ],
      "metadata": {
        "id": "C_fqX1jNcgmQ"
      },
      "id": "C_fqX1jNcgmQ",
      "execution_count": null,
      "outputs": []
    },
    {
      "cell_type": "markdown",
      "source": [
        "## 1. Approximation of the dynamics with SINDy\n",
        "We use SINDy (Sparse Identification of Nonlinear Dynamics) to approximate the function $\\mathbf{f}$ as a linear combination of candidate features as follows\n",
        "\n",
        "$$\n",
        "\\dot{\\mathbf{x}} = \\mathbf{f} \\approx \\mathbf{\\Theta}(\\mathbf{x})\\mathbf{\\Xi},\n",
        "$$\n",
        "where $\\mathbf{\\Theta}$ is the library of prescribed features which can potentially describe the dynamics of the system and $\\mathbf{\\Xi}$ are corresponding multiplicative coefficients.\n",
        "\n",
        "For instance, in a one-dimensional case:\n",
        "$$ \\dot{z} = f(z) \\approx  \\xi_0 + \\xi_1 z + \\xi_2 z^2 + \\ldots = \\mathbf{\\Theta}(z)\\cdot \\mathbf{\\xi}$$"
      ],
      "metadata": {
        "id": "aB2UrWeVGOC2"
      },
      "id": "aB2UrWeVGOC2"
    },
    {
      "cell_type": "code",
      "source": [
        "X_sindy = #TODO\n",
        "dX_sindy = #TODO\n",
        "######################      CREATE SINDy model       ######################\n",
        "model = ps.SINDy(feature_names  = ['x','y','z'],\n",
        "                 feature_library= #TODO\n",
        "                 optimizer= #TODO\n",
        ")\n",
        "\n",
        "#TODO: Fit the model\n",
        "\n",
        "model.print()"
      ],
      "metadata": {
        "id": "yrI6CziSt0C1"
      },
      "id": "yrI6CziSt0C1",
      "execution_count": null,
      "outputs": []
    },
    {
      "cell_type": "code",
      "source": [
        "ind_test = 0"
      ],
      "metadata": {
        "id": "twEWxIA32KV2"
      },
      "id": "twEWxIA32KV2",
      "execution_count": null,
      "outputs": []
    },
    {
      "cell_type": "code",
      "source": [
        "y_pred_sindy = #TODO\n",
        "print('Mean Squared Error:', np.mean(np.square(y_test[ind_test] - y_pred_sindy)))"
      ],
      "metadata": {
        "id": "gUXuj5jY2NxX"
      },
      "id": "gUXuj5jY2NxX",
      "execution_count": null,
      "outputs": []
    },
    {
      "cell_type": "code",
      "source": [
        "#Plot trajectory\n",
        "ig,ax = plt.subplots(1,1,subplot_kw={'projection': '3d'})\n",
        "ax.plot(y_test[ind_test][:,0], y_test[ind_test][:,1], y_test[ind_test][:,2], 'k-', linewidth=2, label = 'Exact traj.')\n",
        "ax.plot(y_pred_sindy[:,0], y_pred_sindy[:,1], y_pred_sindy[:,2], 'r--',  linewidth=2, label = 'Predicted traj.')\n",
        "\n",
        "ax.set_xlabel('x', labelpad = 10)\n",
        "ax.set_ylabel('y', labelpad = 10)\n",
        "ax.set_zlabel('z', labelpad = 10)\n",
        "ax.scatter(y_test[ind_test][0,0], y_test[ind_test][0,1], y_test[ind_test][0,2] ,color='g', s=30)\n",
        "plt.legend()\n",
        "\n",
        "# Plot evolution of each state\n",
        "plt.figure()\n",
        "plt.subplot(3,1,1)\n",
        "plt.plot(t[:-1], y_test[ind_test][:,0], 'k-', linewidth = 2, label = 'x')\n",
        "plt.plot(t[:-1], y_pred_sindy[:,0], 'r--',  linewidth=2, label = ' x pred')\n",
        "plt.legend(loc = 'lower right')\n",
        "\n",
        "plt.subplot(3,1,2)\n",
        "plt.plot(t[:-1], y_test[ind_test][:,1], 'k-', linewidth = 2, label = 'y')\n",
        "plt.plot(t[:-1], y_pred_sindy[:,1], 'r--',  linewidth=2, label = 'y pred')\n",
        "plt.legend(loc = 'lower right')\n",
        "\n",
        "plt.subplot(3,1,3)\n",
        "plt.plot(t[:-1], y_test[ind_test][:,2], 'k-', linewidth = 2, label = 'z')\n",
        "plt.plot(t[:-1], y_pred_sindy[:,2], 'r--',  linewidth=2, label = 'z pred')\n",
        "plt.legend(loc = 'lower right')\n",
        "plt.show()\n"
      ],
      "metadata": {
        "id": "XwXkoU632e6Y"
      },
      "id": "XwXkoU632e6Y",
      "execution_count": null,
      "outputs": []
    },
    {
      "cell_type": "code",
      "source": [
        "measurement_noise_factor = 0.1 # measurement noise factor\n",
        "model_noise_factor = 0.2 # model noise factor\n",
        "\n",
        "# Random model coefficients: model noise\n",
        "np.random.seed(seed)\n",
        "a_samples = #TODO\n",
        "b_samples = #TODO\n",
        "c_samples = #TODO\n",
        "\n",
        "# Generate data\n",
        "x_train_noise = []\n",
        "for i in range(n_train):\n",
        "  x_sol_noise = #TODO\n",
        "  x_train_noise.append(x_sol_noise)\n",
        "\n",
        "# add measurement noise\n",
        "x_train_noise = np.array([add_lognormal_noise(x_, measurement_noise_factor)[0] for x_ in x_train_noise])\n",
        "\n",
        "# calculate time derivatives\n",
        "dx_train_noise = np.array([np.gradient(traj, dt, axis=0) for traj in x_train_noise])"
      ],
      "metadata": {
        "id": "d8kiUQWuAcBI"
      },
      "id": "d8kiUQWuAcBI",
      "execution_count": null,
      "outputs": []
    },
    {
      "cell_type": "code",
      "source": [
        "# three-dimensional plot of roessler attractor\n",
        "fig = plt.figure()\n",
        "ax = fig.add_subplot(projection=\"3d\")\n",
        "for i, x_ in enumerate(x_train_noise):\n",
        "    if i == 0:\n",
        "        ax.plot(x_[:, 0], x_[:, 1], x_[:, 2], c=\"gray\", label=\"Training data\")\n",
        "    else:\n",
        "        ax.plot(x_[:, 0], x_[:, 1], x_[:, 2], c=\"gray\")\n",
        "for i, x_ in enumerate(x_test):\n",
        "    if i == 0:\n",
        "        ax.plot(x_[:, 0], x_[:, 1], x_[:, 2], c=\"red\", label=\"Test data\")\n",
        "    else:\n",
        "        ax.plot(x_[:, 0], x_[:, 1], x_[:, 2], c=\"red\")\n",
        "plt.xlabel(\"$z_1$\")\n",
        "plt.ylabel(\"$z_2$\")\n",
        "ax.set_zlabel(\"$z_3$\")\n",
        "plt.legend()\n",
        "plt.tight_layout()\n",
        "\n",
        "# # Plot the training data\n",
        "# Number of trajectories\n",
        "num_trajectories = len(x_train_noise)\n",
        "\n",
        "# Colormap\n",
        "cmap_blue = cm.Blues(np.linspace(0., 1, num_trajectories))\n",
        "cmap_red  = cm.Reds(np.linspace(0., 1, num_trajectories))\n",
        "cmap_green  = cm.Greens(np.linspace(0., 1, num_trajectories))\n",
        "\n",
        "# Plot the training data\n",
        "fig, axs = plt.subplots(2, 3, figsize=(18, 8))\n",
        "\n",
        "# Plotting each trajectory for states and velocities\n",
        "for i in range(num_trajectories):\n",
        "    # States\n",
        "    axs[0, 0].plot(t, x_train_noise[i][:, 0], color=cmap_blue[i])\n",
        "    axs[0, 1].plot(t, x_train_noise[i][:, 1], color=cmap_red[i])\n",
        "    axs[0, 2].plot(t, x_train_noise[i][:, 2], color=cmap_green[i])\n",
        "\n",
        "    # Velocities\n",
        "    axs[1, 0].plot(t, dx_train_noise[i][:, 0], color=cmap_blue[i])\n",
        "    axs[1, 1].plot(t, dx_train_noise[i][:, 1], color=cmap_red[i])\n",
        "    axs[1, 2].plot(t, dx_train_noise[i][:, 2], color=cmap_green[i])\n",
        "\n",
        "# Setting labels and titles for states\n",
        "axs[0, 0].set_title(\"$x$\", fontsize=20)\n",
        "axs[0, 1].set_title(\"$y$\", fontsize=20)\n",
        "axs[0, 2].set_title(\"$z$\", fontsize=20)\n",
        "\n",
        "# Setting labels\n",
        "axs[1, 0].set_title(\"$\\dot{x}$\", fontsize=20)\n",
        "axs[1, 1].set_title(\"$\\dot{y}$\", fontsize=20)\n",
        "axs[1, 2].set_title(\"$\\dot{z}$\", fontsize=20)\n",
        "\n",
        "for ax in axs[1, :]:\n",
        "    ax.set_xlabel(\"t\", fontsize=14)\n",
        "\n",
        "plt.tight_layout()\n",
        "plt.show()\n"
      ],
      "metadata": {
        "id": "qhApyKP95zx7"
      },
      "id": "qhApyKP95zx7",
      "execution_count": null,
      "outputs": []
    },
    {
      "cell_type": "code",
      "source": [
        "X_sindy_noise = [traj for traj in x_train_noise]\n",
        "dX_sindy_noise = [traj_deriv for traj_deriv in dx_train_noise]\n",
        "\n",
        "######################      CREATE SINDy model       ######################\n",
        "model_noise = ps.SINDy(feature_names  = ['x','y','z'],\n",
        "                 feature_library= ps.PolynomialLibrary(degree = 2, include_bias=True),\n",
        "                 optimizer=ps.STLSQ(threshold=0.1))\n",
        "\n",
        "model_noise.fit(x=X_sindy_noise, t=dt, x_dot = dX_sindy_noise, multiple_trajectories=True)\n",
        "\n",
        "model_noise.print()"
      ],
      "metadata": {
        "id": "OdwzZWqg46w6"
      },
      "id": "OdwzZWqg46w6",
      "execution_count": null,
      "outputs": []
    },
    {
      "cell_type": "code",
      "source": [
        "ind_test = 0"
      ],
      "metadata": {
        "id": "rYYvPKfu5iwL"
      },
      "id": "rYYvPKfu5iwL",
      "execution_count": null,
      "outputs": []
    },
    {
      "cell_type": "code",
      "source": [
        "y_pred_sindy = model_noise.simulate(x_test[ind_test][0], t[:-1])\n",
        "print('Mean Squared Error:', np.mean(np.square(y_test[ind_test] - y_pred_sindy)))\n",
        "\n",
        "#Plot trajectory\n",
        "ig,ax = plt.subplots(1,1,subplot_kw={'projection': '3d'})\n",
        "ax.plot(y_test[ind_test][:,0], y_test[ind_test][:,1], y_test[ind_test][:,2], 'k-', linewidth=2, label = 'Exact traj.')\n",
        "ax.plot(y_pred_sindy[:,0], y_pred_sindy[:,1], y_pred_sindy[:,2], 'r--',  linewidth=2, label = 'Predicted traj.')\n",
        "\n",
        "ax.set_xlabel('x', labelpad = 10)\n",
        "ax.set_ylabel('y', labelpad = 10)\n",
        "ax.set_zlabel('z', labelpad = 10)\n",
        "ax.scatter(y_test[ind_test][0,0], y_test[ind_test][0,1], y_test[ind_test][0,2] ,color='g', s=30)\n",
        "plt.legend()\n",
        "\n",
        "# Plot evolution of each state\n",
        "plt.figure()\n",
        "plt.subplot(3,1,1)\n",
        "plt.plot(t[:-1], y_test[ind_test][:,0], 'k-', linewidth = 2, label = 'x')\n",
        "plt.plot(t[:-1], y_pred_sindy[:,0], 'r--',  linewidth=2, label = ' x pred')\n",
        "plt.legend(loc = 'lower right')\n",
        "\n",
        "plt.subplot(3,1,2)\n",
        "plt.plot(t[:-1], y_test[ind_test][:,1], 'k-', linewidth = 2, label = 'y')\n",
        "plt.plot(t[:-1], y_pred_sindy[:,1], 'r--',  linewidth=2, label = 'y pred')\n",
        "plt.legend(loc = 'lower right')\n",
        "\n",
        "plt.subplot(3,1,3)\n",
        "plt.plot(t[:-1], y_test[ind_test][:,2], 'k-', linewidth = 2, label = 'z')\n",
        "plt.plot(t[:-1], y_pred_sindy[:,2], 'r--',  linewidth=2, label = 'z pred')\n",
        "plt.legend(loc = 'lower right')\n",
        "plt.show()"
      ],
      "metadata": {
        "id": "unN9OJjz5YLy"
      },
      "id": "unN9OJjz5YLy",
      "execution_count": null,
      "outputs": []
    },
    {
      "cell_type": "markdown",
      "id": "84e4e08b2afd7c56",
      "metadata": {
        "id": "84e4e08b2afd7c56"
      },
      "source": [
        "## Problem Setup\n",
        "Let's define some general script parameter."
      ]
    },
    {
      "cell_type": "code",
      "source": [
        "sindy_type = \"vindy\"  # \"sindy\" or \"vindy\", if you either want a deterministic or probabilistic model for the dynamics, respectively.\n",
        "model_name = \"roessler\"\n",
        "seed = 29 # random seed\n",
        "random_IC = True # use random initial conditions\n",
        "random_coeff = True # use random parameters (model noise)\n",
        "measurement_noise_factor = 0.01 # measurement noise factor\n",
        "model_noise_factor = 0.1 # model noise factor\n",
        "n_train = 30 # number of training trajectories\n",
        "n_test = 4 # number of test trajectories"
      ],
      "metadata": {
        "id": "VpModc8FJNQq"
      },
      "id": "VpModc8FJNQq",
      "execution_count": null,
      "outputs": []
    },
    {
      "cell_type": "markdown",
      "id": "7f8a25fbdcc903ad",
      "metadata": {
        "id": "7f8a25fbdcc903ad"
      },
      "source": [
        "Let's define directories for saving the results"
      ]
    },
    {
      "cell_type": "code",
      "source": [
        "def generate_directories(model_name, sindy_type, scenario_info, outdir):\n",
        "    # noise before derivative, model error, seed\n",
        "    outdir = os.path.join(outdir, f\"{model_name}\", f\"{sindy_type}\")\n",
        "    figdir = os.path.join(outdir, \"figures\", f\"{scenario_info}\")\n",
        "    log_dir = os.path.join(\n",
        "        outdir,\n",
        "        '{model_name}', 'log', f'{scenario_info}',\n",
        "    )\n",
        "    weights_dir = os.path.join(outdir, \"weights\", f\"{scenario_info}\")\n",
        "    # save figure\n",
        "    for dir in [outdir, figdir, log_dir, weights_dir]:\n",
        "        if not os.path.isdir(dir):\n",
        "            os.makedirs(dir)\n",
        "\n",
        "    return outdir, figdir, log_dir, weights_dir\n",
        "\n",
        "scenario_info = f\"{sindy_type}_nbd__me_{random_coeff}_{model_noise_factor}_seed_{seed}_noise_{measurement_noise_factor}\"\n",
        "_, _, _, weights_dir = generate_directories(model_name, sindy_type, scenario_info, \"results\")"
      ],
      "metadata": {
        "id": "7yMyNmGNJPsC"
      },
      "id": "7yMyNmGNJPsC",
      "execution_count": null,
      "outputs": []
    },
    {
      "cell_type": "markdown",
      "id": "hfUBTiGH6Y-N",
      "metadata": {
        "id": "hfUBTiGH6Y-N"
      },
      "source": [
        " Let's generate data and plot them to see what it looks like"
      ]
    },
    {
      "cell_type": "code",
      "source": [
        "# Generate initial conditions and parameters\n",
        "if random_IC:\n",
        "    np.random.seed(seed)\n",
        "    x0 = np.concatenate(\n",
        "        [np.random.normal(ic_, scale=2, size=(n_train + n_test, 1)) for ic_ in ic],\n",
        "        axis=1,\n",
        "    )\n",
        "else:\n",
        "    x0 = np.repeat(np.array([ic])[:, :, np.newaxis], n_train + 1, axis=2)\n",
        "\n",
        "if random_coeff:\n",
        "    np.random.seed(seed)\n",
        "    a_samples = np.random.normal(a, a * model_noise_factor, size=n_train)\n",
        "    b_samples = np.random.normal(b, b * model_noise_factor, size=n_train)\n",
        "    c_samples = np.random.normal(c, c * model_noise_factor, size=n_train)\n",
        "else:\n",
        "    a_samples = [a]\n",
        "    b_samples = [b]\n",
        "    c_samples = [c]\n",
        "\n",
        "# Generate data\n",
        "x = np.array(\n",
        "    [\n",
        "        scipy.integrate.odeint(lambda x, t: roessler(t, x, a=a_, b=b_, c=c_), x0_, t)\n",
        "        for i, (a_, b_, c_, x0_) in enumerate(\n",
        "            zip(a_samples, b_samples, c_samples, x0[:n_train])\n",
        "        )\n",
        "    ]\n",
        ")\n",
        "\n",
        "# add measurement noise\n",
        "x = np.array([add_lognormal_noise(x_, measurement_noise_factor)[0] for x_ in x])\n",
        "x_test = np.array(\n",
        "    [\n",
        "        scipy.integrate.odeint(lambda x, t: roessler(t, x, a=a, b=b, c=c), x0_, t)\n",
        "        for x0_ in x0[n_train:]\n",
        "    ]\n",
        ")\n",
        "\n",
        "# calculate time derivatives\n",
        "dxdt = [np.array(np.gradient(x_, dt, axis=0)) for x_ in x]\n",
        "dxdt_test = [np.array(np.gradient(x_, dt, axis=0)) for x_ in x_test]"
      ],
      "metadata": {
        "id": "kVmCOxUvuT5H"
      },
      "id": "kVmCOxUvuT5H",
      "execution_count": null,
      "outputs": []
    },
    {
      "cell_type": "markdown",
      "id": "dde896f5f9197b7b",
      "metadata": {
        "id": "dde896f5f9197b7b"
      },
      "source": [
        "## Model Generation\n",
        "\n",
        "Now, we will define the VINDy model and train it on the generated data to learn the Roessler system. We will use the `VariationalSindyLayer` to define the model. The `VariationalSindyLayer` is a Bayesian version of the SINDy model that uses a variational inference approach to learn the model coefficients. We will use the `Laplacian` priors for the coefficients and use a polynomial library of degree 2 to learn the model."
      ]
    },
    {
      "cell_type": "code",
      "execution_count": null,
      "id": "cf83bea120de382c",
      "metadata": {
        "id": "cf83bea120de382c"
      },
      "outputs": [],
      "source": [
        "# reshape data to fit the model\n",
        "x_train = np.concatenate(x, axis=0)\n",
        "dxdt_train = np.concatenate(dxdt, axis=0)\n",
        "x_test = np.concatenate(x_test, axis=0)\n",
        "dxdt_test = np.concatenate(dxdt_test, axis=0)\n",
        "\n",
        "# model parameters\n",
        "libraries = [\n",
        "    PolynomialLibrary(2, include_bias=True),\n",
        "]\n",
        "dt = t[1] - t[0]\n",
        "\n",
        "# create sindy layer\n",
        "layer_params = dict(\n",
        "    state_dim=3,\n",
        "    param_dim=0,\n",
        "    feature_libraries=libraries,\n",
        "    second_order=False,\n",
        "    mask=None,\n",
        "    kernel_regularizer=tf.keras.regularizers.L1L2(l1=0, l2=0),\n",
        ")\n",
        "if sindy_type == \"vindy\":\n",
        "    sindy_layer = VindyLayer(\n",
        "        beta=1e-3,\n",
        "        priors=Laplace(0.0, 1.0),\n",
        "        **layer_params,\n",
        "    )\n",
        "elif sindy_type == \"sindy\":\n",
        "    sindy_layer = SindyLayer(\n",
        "        **layer_params,\n",
        "    )\n",
        "else:\n",
        "    raise ValueError(f\"Unknown SINDy type: {sindy_type}\")\n",
        "\n",
        "# create autoencoder sindy model\n",
        "model = SindyNetwork(\n",
        "    sindy_layer=sindy_layer,\n",
        "    x=x_train,\n",
        "    l_dz=1e0,\n",
        "    dt=dt,\n",
        "    second_order=False,\n",
        ")\n",
        "model.compile(optimizer=tf.keras.optimizers.Adam(learning_rate=0.001), loss=\"huber\")"
      ]
    },
    {
      "cell_type": "markdown",
      "id": "532cde3c8dab6856",
      "metadata": {
        "id": "532cde3c8dab6856"
      },
      "source": [
        "Let's train the VINDy model on the (noisy) Roessler data.\n",
        "We aim to minimize the loss:\n",
        "$$\n",
        "\\min_{\\mathbf{W}_\\mathbf{\\Xi}} \\frac{1}{n_s} \\sum_{i=1}^{n_s} \\lambda_1 ||\\dot{\\mathbf{x}} - \\mathbf{\\Theta}(\\mathbf{x})\\mathbf{\\Xi}||_2^2+\\lambda_2 \\mathcal{KL}(q(\\mathbf{\\Xi}) || p(\\mathbf{\\Xi})),\n",
        "$$\n",
        "\n",
        "where\n",
        "\n",
        "*   $\\mathbf{x}=[x,y,z]^\\top$ is the vector of the system states and $\\dot{\\mathbf{x}}$ its time derivatives.\n",
        "*   $n_s$ is the total number of samples.\n",
        "*   $\\mathbf{\\Theta}$ is the library of candidate features for describing the system dynamics.\n",
        "*   $\\mathbf{\\Xi}\\sim q(\\Xi)=q(\\Xi|\\mathbf{x};\\mathbf{W}_\\mathbf{\\Xi})$ is a matrix of random variables with posterior $q$ parametrized by $\\mathbf{W}_\\mathbf{\\Xi}$. Priors on the entries of the matrix are set to be Laplacian distribution, i.e. $W_{ij}\\sim \\mathcal{L}(0,1)$.\n",
        "*   $\\lambda_1=1.0$, $\\lambda_2=10^{-3}$ are the loss weighting coefficients.\n",
        "\n",
        "\n",
        "\n",
        "\n",
        "\n"
      ]
    },
    {
      "cell_type": "code",
      "execution_count": null,
      "id": "e632ffbc48185b38",
      "metadata": {
        "id": "e632ffbc48185b38"
      },
      "outputs": [],
      "source": [
        "weights_path = os.path.join(weights_dir, \".weights.h5\")\n",
        "\n",
        "callbacks = [\n",
        "    tf.keras.callbacks.ModelCheckpoint(\n",
        "        filepath=os.path.join(weights_path),\n",
        "        save_weights_only=True,\n",
        "        save_best_only=True,\n",
        "        monitor=\"loss\",\n",
        "        verbose=0,\n",
        "    ),\n",
        "    SaveCoefficientsCallback()\n",
        "]\n",
        "\n",
        "trainhist = model.fit(\n",
        "    x=[x_train, dxdt_train],\n",
        "    callbacks=callbacks,\n",
        "    y=None,\n",
        "    epochs=500,\n",
        "    batch_size=256,\n",
        "    verbose=1,\n",
        ")\n",
        "# load best weights\n",
        "model.load_weights(os.path.join(weights_path))\n",
        "# apply pdf threshold\n",
        "threshold = 0.5\n",
        "sindy_layer.pdf_thresholding(threshold=threshold)"
      ]
    },
    {
      "cell_type": "markdown",
      "id": "df1cf71c56d0e69c",
      "metadata": {
        "id": "df1cf71c56d0e69c"
      },
      "source": [
        "Let's plot the training history of the VINDy model and check how the coefficients evolved during training.\n",
        "We plot the coefficients of the VINDy model to see which terms are learned by the model."
      ]
    },
    {
      "cell_type": "code",
      "execution_count": null,
      "id": "355791e7ea0571da",
      "metadata": {
        "id": "355791e7ea0571da"
      },
      "outputs": [],
      "source": [
        "# plot training history\n",
        "plt.figure()\n",
        "plt.title(\"Loss over epochs\")\n",
        "plt.semilogy(trainhist.history[\"loss\"])\n",
        "plt.semilogy(trainhist.history[\"dz\"])\n",
        "plt.semilogy(trainhist.history[\"kl_sindy\"])\n",
        "plt.legend([\"total loss\", \"dz\", \"kl_sindy\"])\n",
        "plt.xlabel(\"Epoch\")\n",
        "plt.ylabel(\"Loss\")\n",
        "plt.show()\n",
        "\n",
        "plt.figure()\n",
        "plt.title(\"VINDy Coefficients over epochs\")\n",
        "plt.plot(np.array(trainhist.history[\"coeffs_mean\"]).squeeze())\n",
        "plt.legend()\n",
        "plt.xlabel(\"Epoch\")\n",
        "plt.ylabel(\"Coefficient\")\n",
        "plt.show()\n",
        "\n",
        "equation = sindy_layer.model_equation_to_str(z=var_names, precision=3)\n",
        "sindy_layer.visualize_coefficients(x_range=[-1.6, 1.6], z=var_names, mu=None)\n",
        "plt.suptitle(equation)\n",
        "plt.tight_layout()"
      ]
    },
    {
      "cell_type": "markdown",
      "id": "e6a725f621799f63",
      "metadata": {
        "id": "e6a725f621799f63"
      },
      "source": [
        "We can now use the trained VINDy model to predict the future states of the Roessler system. We will use the `scipy.integrate.solve_ivp` function to integrate the ODEs using the predicted time derivatives."
      ]
    },
    {
      "cell_type": "code",
      "execution_count": null,
      "id": "f290ef9a935d2bcb",
      "metadata": {
        "id": "f290ef9a935d2bcb"
      },
      "outputs": [],
      "source": [
        "# %% integration\n",
        "nt = t.shape[0]\n",
        "i_test = 0\n",
        "# integrate the model\n",
        "t_0 = i_test * int(nt)\n",
        "sol = model.integrate(x_test[t_0 : t_0 + 1].squeeze(), t.squeeze(), mu=None)\n",
        "t_pred = sol.t\n",
        "x_pred = sol.y\n",
        "\n",
        "fig, axs = plt.subplots(dim, 1, figsize=(8, 5))\n",
        "fig.suptitle(f\"Integrated Test Trajectory\")\n",
        "t_0 = i_test * int(nt)\n",
        "for i in range(dim):\n",
        "    axs[i].plot(\n",
        "        t, x_test[t_0 : t_0 + nt, i], label=f\"${var_names[i]}$\", color=\"black\"\n",
        "    )\n",
        "    axs[i].plot(\n",
        "        t_pred,\n",
        "        x_pred[i],\n",
        "        label=f\"${var_names[i]}$ pred\",\n",
        "        linestyle=\"--\",\n",
        "        color=\"orange\",\n",
        "    )\n",
        "    axs[i].set_xlabel(\"$t$\")\n",
        "    axs[i].legend(loc = 'upper right')\n",
        "plt.tight_layout()"
      ]
    },
    {
      "cell_type": "markdown",
      "id": "865906c05fd5b4dc",
      "metadata": {
        "id": "865906c05fd5b4dc"
      },
      "source": [
        "## Uncertainty quantification\n",
        "Instead of only using the mean coefficients for a single prediction, we can also sample various models and use them to predict the future states of the Roessler system. This will give us an idea of the uncertainty in the model predictions.\n",
        "Forward UQ:\n",
        "* We sample SINDy coefficients from the predicted posterior distribution\n",
        "* We integrate the ODE with the sampled coefficients and collect the trajectories"
      ]
    },
    {
      "cell_type": "code",
      "execution_count": null,
      "id": "f34de400215567da",
      "metadata": {
        "id": "f34de400215567da"
      },
      "outputs": [],
      "source": [
        "n_traj = 10\n",
        "# Store the original coefficients\n",
        "kernel_orig, kernel_scale_orig = sindy_layer.kernel, sindy_layer.kernel_scale\n",
        "\n",
        "t_preds = []\n",
        "x_preds = []\n",
        "t_0 = i_test * int(nt)\n",
        "print(f\"test trajectory {i_test}\")\n",
        "# List to store the solution trajectories in latent space\n",
        "for traj in range(n_traj):\n",
        "    print(f\"\\t sample {traj+1} out of {n_traj}\")\n",
        "    # Sample from the posterior distribution of the coefficients\n",
        "    sampled_coeff, f_, ff_ = sindy_layer._coeffs\n",
        "    # only take non-zero coefficients\n",
        "    sampled_coeff = sampled_coeff.numpy()\n",
        "    sampled_coeff = sampled_coeff[sampled_coeff != 0]\n",
        "\n",
        "    # Assign the sampled coefficients to the SINDy layer\n",
        "    sindy_layer.kernel = tf.reshape(sampled_coeff, (-1, 1))\n",
        "    sol = model.integrate(x_test[t_0:t_0 + 1].squeeze(),\n",
        "                          t.squeeze())\n",
        "    t_preds.append(sol.t)\n",
        "    x_preds.append(sol.y)\n",
        "# restore original coefficients\n",
        "sindy_layer.kernel, sindy_layer.kernel_scale = kernel_orig, kernel_scale_orig\n",
        "# calculate mean and variance of the trajectories\n",
        "x_uq = np.array(x_preds)\n",
        "x_uq_mean_sampled = np.mean(x_uq, axis=0)\n",
        "x_uq_std = np.std(x_uq, axis=0)\n",
        "\n",
        "# UQ plot\n",
        "fig, axs = plt.subplots(dim, 1, figsize=(10, 6), sharex=True)\n",
        "fig.suptitle(f\"Integrated Test Trajectories\")\n",
        "t_0 = i_test * int(nt)\n",
        "axs[0].set_title(f\"Test Trajectory {i_test + 1}\")\n",
        "\n",
        "for i in range(dim):\n",
        "    axs[i].fill_between(\n",
        "        t,\n",
        "        x_uq_mean_sampled[i] - 3 * x_uq_std[i],\n",
        "        x_uq_mean_sampled[i] + 3 * x_uq_std[i],\n",
        "        color=\"grey\",\n",
        "        alpha=0.3,\n",
        "        label=\"UQ bounds ($\\pm 3$ std)\"\n",
        "    )\n",
        "    axs[i].plot(t, x_test[t_0: t_0 + nt, i], color=\"black\", label=f\"${var_names[i]}$ true\")\n",
        "    axs[i].plot(t, x_pred[i], color=\"orange\", linestyle=\"--\", label=f\"${var_names[i]}$ pred mean\")\n",
        "    # Adjust the legend to be outside the plot\n",
        "    axs[i].legend(loc='upper left', bbox_to_anchor=(1, 1))\n",
        "\n",
        "plt.tight_layout(rect=[0, 0, 0.8, 1])  # Adjust the layout to make space for the legends\n",
        "plt.show()"
      ]
    }
  ],
  "metadata": {
    "colab": {
      "provenance": [],
      "include_colab_link": true
    },
    "kernelspec": {
      "display_name": "Python 3 (ipykernel)",
      "language": "python",
      "name": "python3"
    },
    "language_info": {
      "codemirror_mode": {
        "name": "ipython",
        "version": 3
      },
      "file_extension": ".py",
      "mimetype": "text/x-python",
      "name": "python",
      "nbconvert_exporter": "python",
      "pygments_lexer": "ipython3",
      "version": "3.9.7"
    }
  },
  "nbformat": 4,
  "nbformat_minor": 5
}